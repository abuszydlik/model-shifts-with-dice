{
 "cells": [
  {
   "cell_type": "code",
   "execution_count": 1,
   "metadata": {},
   "outputs": [],
   "source": [
    "import warnings\n",
    "warnings.filterwarnings(\"ignore\", message=r\"Passing\", category=FutureWarning)\n",
    "warnings.filterwarnings(\"ignore\", message=r\"Implicit\", category=UserWarning)\n",
    "warnings.filterwarnings(\"ignore\", message=r\"cannot\", category=UserWarning)"
   ]
  },
  {
   "cell_type": "code",
   "execution_count": 2,
   "metadata": {},
   "outputs": [
    {
     "name": "stderr",
     "output_type": "stream",
     "text": [
      "Using TensorFlow backend.\n"
     ]
    },
    {
     "name": "stdout",
     "output_type": "stream",
     "text": [
      "[INFO] Using Python-MIP package version 1.12.0 [model.py <module>]\n"
     ]
    }
   ],
   "source": [
    "import os\n",
    "import sys\n",
    "sys.path.append('..')\n",
    "\n",
    "from carla.recourse_methods import Dice, Wachter\n",
    "from copy import deepcopy\n",
    "from model_shifts import (DynamicCsvCatalog,\n",
    "                          DynamicOnlineCatalog,\n",
    "                          RecourseExperiment,\n",
    "                          RecourseGenerator,\n",
    "                          train_model,\n",
    "                          plot_experiment,\n",
    "                          generate_gif)\n",
    "\n",
    "os.environ[\"CUDA_VISIBLE_DEVICES\"] = \"\"\n",
    "\n",
    "#     torch.manual_seed(0)\n",
    "#     random.seed(0)\n",
    "#     np.random.seed(0)"
   ]
  },
  {
   "cell_type": "code",
   "execution_count": 3,
   "metadata": {},
   "outputs": [
    {
     "name": "stdout",
     "output_type": "stream",
     "text": [
      "[INFO] Balance: train set 0.5, test set 0.5 [dynamic_csv_catalog.py __init__]\n"
     ]
    }
   ],
   "source": [
    "# Load the dataset from a csv file\n",
    "# TODO: Iris? Penguins? Breast Cancer (categorical)?\n",
    "dataset = DynamicCsvCatalog(file_path=\"../datasets/linearly_separable.csv\", \n",
    "                            continuous=['feature1', 'feature2'], categorical=[],\n",
    "                            immutables=[], target='target', test_size=0.3)\n",
    "# dataset = DynamicOnlineCatalog(\"compas\", 'score')"
   ]
  },
  {
   "cell_type": "code",
   "execution_count": 4,
   "metadata": {
    "scrolled": false
   },
   "outputs": [
    {
     "name": "stdout",
     "output_type": "stream",
     "text": [
      "[INFO] Training the initial model [recourse_generator.py train_model]\n",
      "[INFO] Updating the DICE_1 model [recourse_generator.py update_model]\n",
      "[INFO] Retraining the model [recourse_generator.py train_model]\n",
      "[INFO] Current balance: train set 0.5, test set 0.5 [dynamic_mlmodel_catalog.py retrain]\n",
      "[INFO] Updating the Wachter model [recourse_generator.py update_model]\n",
      "[INFO] Retraining the model [recourse_generator.py train_model]\n",
      "[INFO] Current balance: train set 0.5, test set 0.5 [dynamic_mlmodel_catalog.py retrain]\n",
      "[INFO] Starting epoch 1 [recourse_experiment.py run]\n",
      "[INFO] Applying the DICE_1 generator. [recourse_generator.py apply_recourse_with_timeout]\n",
      "[INFO] Generating counterfactual 1 with DICE_1 [recourse_generator.py apply_recourse_with_timeout]\n",
      "[INFO] Updating the DICE_1 model [recourse_generator.py update_model]\n",
      "[INFO] Retraining the model [recourse_generator.py train_model]\n",
      "[INFO] Current balance: train set 0.5035714285714286, test set 0.5 [dynamic_mlmodel_catalog.py retrain]\n",
      "[INFO] Applying the Wachter generator. [recourse_generator.py apply_recourse_with_timeout]\n",
      "[INFO] Generating counterfactual 1 with Wachter [recourse_generator.py apply_recourse_with_timeout]\n",
      "[INFO] Counterfactual Explanation Found [wachter.py wachter_recourse]\n",
      "[INFO] Updating the Wachter model [recourse_generator.py update_model]\n",
      "[INFO] Retraining the model [recourse_generator.py train_model]\n",
      "[INFO] Current balance: train set 0.5035714285714286, test set 0.5 [dynamic_mlmodel_catalog.py retrain]\n",
      "[INFO] Starting epoch 2 [recourse_experiment.py run]\n",
      "[INFO] Applying the DICE_1 generator. [recourse_generator.py apply_recourse_with_timeout]\n",
      "[INFO] Generating counterfactual 1 with DICE_1 [recourse_generator.py apply_recourse_with_timeout]\n",
      "[INFO] Updating the DICE_1 model [recourse_generator.py update_model]\n",
      "[INFO] Retraining the model [recourse_generator.py train_model]\n",
      "[INFO] Current balance: train set 0.5071428571428571, test set 0.5 [dynamic_mlmodel_catalog.py retrain]\n",
      "[INFO] Applying the Wachter generator. [recourse_generator.py apply_recourse_with_timeout]\n",
      "[INFO] Generating counterfactual 1 with Wachter [recourse_generator.py apply_recourse_with_timeout]\n",
      "[INFO] Counterfactual Explanation Found [wachter.py wachter_recourse]\n",
      "[INFO] Updating the Wachter model [recourse_generator.py update_model]\n",
      "[INFO] Retraining the model [recourse_generator.py train_model]\n",
      "[INFO] Current balance: train set 0.5071428571428571, test set 0.5 [dynamic_mlmodel_catalog.py retrain]\n",
      "[INFO] Starting epoch 3 [recourse_experiment.py run]\n",
      "[INFO] Applying the DICE_1 generator. [recourse_generator.py apply_recourse_with_timeout]\n",
      "[INFO] Generating counterfactual 1 with DICE_1 [recourse_generator.py apply_recourse_with_timeout]\n",
      "[INFO] Updating the DICE_1 model [recourse_generator.py update_model]\n",
      "[INFO] Retraining the model [recourse_generator.py train_model]\n",
      "[INFO] Current balance: train set 0.5107142857142857, test set 0.5 [dynamic_mlmodel_catalog.py retrain]\n",
      "[INFO] Applying the Wachter generator. [recourse_generator.py apply_recourse_with_timeout]\n",
      "[INFO] Generating counterfactual 1 with Wachter [recourse_generator.py apply_recourse_with_timeout]\n",
      "[INFO] Counterfactual Explanation Found [wachter.py wachter_recourse]\n",
      "[INFO] Updating the Wachter model [recourse_generator.py update_model]\n",
      "[INFO] Retraining the model [recourse_generator.py train_model]\n",
      "[INFO] Current balance: train set 0.5107142857142857, test set 0.5 [dynamic_mlmodel_catalog.py retrain]\n",
      "[INFO] Starting epoch 4 [recourse_experiment.py run]\n",
      "[INFO] Applying the DICE_1 generator. [recourse_generator.py apply_recourse_with_timeout]\n",
      "[INFO] Generating counterfactual 1 with DICE_1 [recourse_generator.py apply_recourse_with_timeout]\n",
      "[INFO] Updating the DICE_1 model [recourse_generator.py update_model]\n",
      "[INFO] Retraining the model [recourse_generator.py train_model]\n",
      "[INFO] Current balance: train set 0.5142857142857142, test set 0.5 [dynamic_mlmodel_catalog.py retrain]\n",
      "[INFO] Applying the Wachter generator. [recourse_generator.py apply_recourse_with_timeout]\n",
      "[INFO] Generating counterfactual 1 with Wachter [recourse_generator.py apply_recourse_with_timeout]\n",
      "[INFO] Counterfactual Explanation Found [wachter.py wachter_recourse]\n",
      "[INFO] Updating the Wachter model [recourse_generator.py update_model]\n",
      "[INFO] Retraining the model [recourse_generator.py train_model]\n",
      "[INFO] Current balance: train set 0.5142857142857142, test set 0.5 [dynamic_mlmodel_catalog.py retrain]\n"
     ]
    }
   ],
   "source": [
    "hyper_params = {'learning_rate': 0.01, 'epochs': 4, 'batch_size': 1, 'hidden_size': [8, 4]}\n",
    "\n",
    "# Recourse generated by DICE is compared with the Wachter generator, as they may modify data differently\n",
    "# we need to keep track of two models and two datasets and update them independently\n",
    "model = train_model(dataset, hyper_params)\n",
    "\n",
    "generators = [\n",
    "              RecourseGenerator('DICE_1', deepcopy(dataset), deepcopy(model),\n",
    "                                Dice, {\"num\": 1}, hyper_params, 30),\n",
    "            #   RecourseGenerator('DICE_2', deepcopy(dataset), deepcopy(model),\n",
    "            #                     Dice, {\"num\": 2}, hyper_params, 30),\n",
    "              RecourseGenerator('Wachter', deepcopy(dataset), deepcopy(model),\n",
    "                                Wachter, {\"loss_type\": \"BCE\", \"t_max_min\": 3}, hyper_params, 180)\n",
    "             ]\n",
    "\n",
    "# SET NAME BEFORE THE EXPERIMENT\n",
    "name='linearly_separable_1_ce_per_epoch'\n",
    "experiment = RecourseExperiment(dataset, model, generators, name)\n",
    "experiment.run(epochs=70, recourse_per_epoch=1, calculate_p=True)\n",
    "experiment.save_data()"
   ]
  },
  {
   "cell_type": "code",
   "execution_count": 5,
   "metadata": {},
   "outputs": [],
   "source": [
    "experiment_path = f'../experiment_data/{experiment.experiment_name}'\n",
    "for g in generators:\n",
    "    generate_gif(experiment_path, g.name)"
   ]
  },
  {
   "cell_type": "code",
   "execution_count": 6,
   "metadata": {},
   "outputs": [
    {
     "name": "stderr",
     "output_type": "stream",
     "text": [
      "..\\model_shifts\\plotting\\plot_experiment.py:77: UserWarning: Attempting to set identical bottom == top == 0.0 results in singular transformations; automatically expanding.\n",
      "  plt.ylim([0 - 0.2 * max(result), 1.2 * max(result)])\n"
     ]
    }
   ],
   "source": [
    "config = [\n",
    "    {'type': 'pos_MMD', 'dict_path': ['MMD', 'positive', 'value']},\n",
    "    {'type': 'neg_MMD', 'dict_path': ['MMD', 'negative', 'value']},\n",
    "    {'type': 'pos_distance', 'dict_path': ['decisiveness', 'positive']},\n",
    "    {'type': 'neg_distance', 'dict_path': ['decisiveness', 'negative']},\n",
    "    {'type': 'disagreement', 'dict_path': ['disagreement']},\n",
    "    {'type': 'model_MMD', 'dict_path': ['model_MMD', 'value']}\n",
    "]\n",
    "\n",
    "for c in config:\n",
    "    plot_experiment(experiment_path,\n",
    "                    [g.name for g in generators],\n",
    "                    c['type'],\n",
    "                    c['dict_path'],\n",
    "                    show_plot=False)"
   ]
  }
 ],
 "metadata": {
  "kernelspec": {
   "display_name": "CSE3000",
   "language": "python",
   "name": "cse3000"
  },
  "language_info": {
   "codemirror_mode": {
    "name": "ipython",
    "version": 3
   },
   "file_extension": ".py",
   "mimetype": "text/x-python",
   "name": "python",
   "nbconvert_exporter": "python",
   "pygments_lexer": "ipython3",
   "version": "3.7.13"
  }
 },
 "nbformat": 4,
 "nbformat_minor": 4
}
