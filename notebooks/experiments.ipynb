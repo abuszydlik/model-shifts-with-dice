{
 "cells": [
  {
   "cell_type": "code",
   "execution_count": 1,
   "metadata": {},
   "outputs": [],
   "source": [
    "import warnings\n",
    "warnings.filterwarnings(\"ignore\", message=r\"Passing\", category=FutureWarning)\n",
    "warnings.filterwarnings(\"ignore\", message=r\"Implicit\", category=UserWarning)\n",
    "warnings.filterwarnings(\"ignore\", message=r\"cannot\", category=UserWarning)"
   ]
  },
  {
   "cell_type": "code",
   "execution_count": 2,
   "metadata": {},
   "outputs": [
    {
     "name": "stderr",
     "output_type": "stream",
     "text": [
      "Using TensorFlow backend.\n"
     ]
    },
    {
     "name": "stdout",
     "output_type": "stream",
     "text": [
      "[INFO] Using Python-MIP package version 1.12.0 [model.py <module>]\n"
     ]
    }
   ],
   "source": [
    "import matplotlib.pyplot as plt\n",
    "import numpy as np\n",
    "import pandas as pd\n",
    "import random\n",
    "\n",
    "from carla.recourse_methods import Dice, Wachter\n",
    "from copy import deepcopy\n",
    "from ipynb.fs.full.dynamic_recourse import (DynamicCsvCatalog,\n",
    "                                            DynamicMLModelCatalog,\n",
    "                                            RecourseExperiment,\n",
    "                                            RecourseGenerator,\n",
    "                                            train_model)\n",
    "\n",
    "# os.environ[\"CUDA_VISIBLE_DEVICES\"] = \"\"\n",
    "\n",
    "#     torch.manual_seed(0)\n",
    "#     random.seed(0)\n",
    "#     np.random.seed(0)"
   ]
  },
  {
   "cell_type": "code",
   "execution_count": 3,
   "metadata": {},
   "outputs": [],
   "source": [
    "# Load the dataset from a csv file\n",
    "dataset = DynamicCsvCatalog(file_path=\"../datasets/unimodal_dataset_5.csv\", \n",
    "                            continuous=['feature1', 'feature2'], categorical=[],\n",
    "                            immutables=[], target='target', test_size=0.3)"
   ]
  },
  {
   "cell_type": "code",
   "execution_count": null,
   "metadata": {},
   "outputs": [
    {
     "name": "stdout",
     "output_type": "stream",
     "text": [
      "[INFO] Training the initial model [dynamic_recourse.ipynb train_model]\n"
     ]
    },
    {
     "name": "stderr",
     "output_type": "stream",
     "text": [
      "C:\\Users\\Olek\\anaconda3\\envs\\rp\\lib\\site-packages\\carla\\models\\api\\mlmodel.py:153: UserWarning: cannot re-order features for non dataframe input: <class 'numpy.ndarray'>\n",
      "  f\"cannot re-order features for non dataframe input: {type(x)}\"\n",
      "C:\\Users\\Olek\\anaconda3\\envs\\rp\\lib\\site-packages\\carla\\models\\api\\mlmodel.py:153: UserWarning: cannot re-order features for non dataframe input: <class 'numpy.ndarray'>\n",
      "  f\"cannot re-order features for non dataframe input: {type(x)}\"\n",
      "C:\\Users\\Olek\\anaconda3\\envs\\rp\\lib\\site-packages\\carla\\models\\api\\mlmodel.py:153: UserWarning: cannot re-order features for non dataframe input: <class 'numpy.ndarray'>\n",
      "  f\"cannot re-order features for non dataframe input: {type(x)}\"\n"
     ]
    },
    {
     "name": "stdout",
     "output_type": "stream",
     "text": [
      "[INFO] Starting epoch 1 [dynamic_recourse.ipynb run]\n",
      "[INFO] Applying the DICE_1 generator. [dynamic_recourse.ipynb apply_recourse_with_timeout]\n",
      "[INFO] Generating counterfactual 1 with DICE_1 [dynamic_recourse.ipynb apply_recourse_with_timeout]\n",
      "[INFO] Generating counterfactual 2 with DICE_1 [dynamic_recourse.ipynb apply_recourse_with_timeout]\n",
      "[INFO] Generating counterfactual 3 with DICE_1 [dynamic_recourse.ipynb apply_recourse_with_timeout]\n",
      "[INFO] Generating counterfactual 4 with DICE_1 [dynamic_recourse.ipynb apply_recourse_with_timeout]\n",
      "[INFO] Generating counterfactual 5 with DICE_1 [dynamic_recourse.ipynb apply_recourse_with_timeout]\n",
      "[INFO] Generating counterfactual 6 with DICE_1 [dynamic_recourse.ipynb apply_recourse_with_timeout]\n",
      "[INFO] Updating the DICE_1 model [dynamic_recourse.ipynb update_model]\n",
      "[INFO] Current balance: train set 0.525, test set 0.44166666666666665 [dynamic_recourse.ipynb retrain]\n"
     ]
    },
    {
     "name": "stderr",
     "output_type": "stream",
     "text": [
      "C:\\Users\\Olek\\anaconda3\\envs\\rp\\lib\\site-packages\\carla\\models\\api\\mlmodel.py:153: UserWarning: cannot re-order features for non dataframe input: <class 'numpy.ndarray'>\n",
      "  f\"cannot re-order features for non dataframe input: {type(x)}\"\n"
     ]
    },
    {
     "name": "stdout",
     "output_type": "stream",
     "text": [
      "[INFO] Applying the DICE_5 generator. [dynamic_recourse.ipynb apply_recourse_with_timeout]\n",
      "[INFO] Generating counterfactual 1 with DICE_5 [dynamic_recourse.ipynb apply_recourse_with_timeout]\n"
     ]
    }
   ],
   "source": [
    "hyper_params = {'learning_rate': 0.04, 'epochs': 4, 'batch_size': 1, 'hidden_size': [4]}\n",
    "\n",
    "# Recourse generated by DICE is compared with the Wachter generator, as they may modify data differently\n",
    "# we need to keep track of two models and two datasets and update them independently\n",
    "model = train_model(dataset, hyper_params)\n",
    "generators = [RecourseGenerator('DICE_1', deepcopy(dataset), deepcopy(model),\n",
    "                                Dice, {\"num\": 1}, hyper_params, 60),\n",
    "              RecourseGenerator('DICE_5', deepcopy(dataset), deepcopy(model),\n",
    "                                Dice, {\"num\": 5}, hyper_params, 120),\n",
    "              RecourseGenerator('Wachter', deepcopy(dataset), deepcopy(model),\n",
    "                                Wachter, {\"loss_type\": \"BCE\", \"t_max_min\": 3.0}, hyper_params)]\n",
    "\n",
    "experiment = RecourseExperiment(dataset, model, generators, experiment_name='p_value')\n",
    "experiment.run(total_recourse=0.10, recourse_per_epoch=0.05)\n",
    "experiment.save_data()"
   ]
  },
  {
   "cell_type": "code",
   "execution_count": null,
   "metadata": {},
   "outputs": [],
   "source": []
  }
 ],
 "metadata": {
  "kernelspec": {
   "display_name": "CSE3000",
   "language": "python",
   "name": "cse3000"
  },
  "language_info": {
   "codemirror_mode": {
    "name": "ipython",
    "version": 3
   },
   "file_extension": ".py",
   "mimetype": "text/x-python",
   "name": "python",
   "nbconvert_exporter": "python",
   "pygments_lexer": "ipython3",
   "version": "3.7.13"
  }
 },
 "nbformat": 4,
 "nbformat_minor": 4
}
