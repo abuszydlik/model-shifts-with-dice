{
 "cells": [
  {
   "cell_type": "code",
   "execution_count": 17,
   "id": "c6b028cd",
   "metadata": {},
   "outputs": [],
   "source": [
    "import imageio\n",
    "\n",
    "from os import listdir\n",
    "from os.path import isfile, join"
   ]
  },
  {
   "cell_type": "code",
   "execution_count": 18,
   "id": "65b4c0ea",
   "metadata": {},
   "outputs": [],
   "source": [
    "def generate_gif(experiment_time, generator_name):\n",
    "    \"\"\"\n",
    "    Collect the images of data distribution over time and process them into a .gif file.\n",
    "    \n",
    "    Args:\n",
    "        experiment_time (str): timestamp of the experiment representing the directory name where images are stored\n",
    "        generator_name (str): name of the generator (either 'dice' or 'wachter') which should be processed\n",
    "    \"\"\"\n",
    "    # Find corresponding filenames\n",
    "    filenames = [name for name in listdir(experiment_time) if isfile(join(experiment_time, name))]\n",
    "    filenames = list(filter(lambda name: name.startswith(generator), filenames))\n",
    "    \n",
    "    # Generate the GIF and save to the original directory\n",
    "    images = []\n",
    "    for filename in filenames:\n",
    "        images.append(imageio.imread(f'{experiment}/{filename}'))\n",
    "    imageio.mimsave(f'{experiment}/{generator}.gif', images)"
   ]
  },
  {
   "cell_type": "code",
   "execution_count": 19,
   "id": "cf1ade52",
   "metadata": {},
   "outputs": [],
   "source": [
    "experiment_time = '20220506163024'\n",
    "generator_name = 'dice'\n",
    "\n",
    "generate_gif(experiment_time, generator_name)"
   ]
  },
  {
   "cell_type": "code",
   "execution_count": null,
   "id": "d7e934d5",
   "metadata": {},
   "outputs": [],
   "source": []
  }
 ],
 "metadata": {
  "kernelspec": {
   "display_name": "CSE3000",
   "language": "python",
   "name": "cse3000"
  },
  "language_info": {
   "codemirror_mode": {
    "name": "ipython",
    "version": 3
   },
   "file_extension": ".py",
   "mimetype": "text/x-python",
   "name": "python",
   "nbconvert_exporter": "python",
   "pygments_lexer": "ipython3",
   "version": "3.7.13"
  }
 },
 "nbformat": 4,
 "nbformat_minor": 5
}
