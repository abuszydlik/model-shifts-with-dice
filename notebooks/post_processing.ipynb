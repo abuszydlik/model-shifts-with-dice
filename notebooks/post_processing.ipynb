{
 "cells": [
  {
   "cell_type": "code",
   "execution_count": 31,
   "id": "c6b028cd",
   "metadata": {},
   "outputs": [],
   "source": [
    "import imageio\n",
    "import re\n",
    "\n",
    "from os import listdir, rename\n",
    "from os.path import isfile, join"
   ]
  },
  {
   "cell_type": "code",
   "execution_count": 32,
   "id": "65b4c0ea",
   "metadata": {},
   "outputs": [],
   "source": [
    "def generate_gif(experiment_path, generator_name):\n",
    "    \"\"\"\n",
    "    Collect the images of data distribution over time and process them into a .gif file.\n",
    "    \n",
    "    Args:\n",
    "        experiment_path (str): path to the experiment directory where images are stored\n",
    "        generator_name (str): name of the generator (either 'DICE' or 'wachter') which should be processed\n",
    "    \"\"\"\n",
    "    # Find corresponding filenames\n",
    "    filenames = [name for name in listdir(experiment_path) if isfile(join(experiment_path, name))]\n",
    "    filenames = list(filter(lambda name: name.startswith(generator_name), filenames))\n",
    "\n",
    "    # Generate the GIF and save to the original directory\n",
    "    images = []\n",
    "    for filename in sorted(filenames):\n",
    "        for _ in range(3):\n",
    "            images.append(imageio.imread(f'{experiment_path}/{filename}'))\n",
    "    imageio.mimsave(f'{experiment_path}/{generator_name}.gif', images)"
   ]
  },
  {
   "cell_type": "code",
   "execution_count": 33,
   "id": "cf1ade52",
   "metadata": {},
   "outputs": [],
   "source": [
    "experiment_path = '../experiment_data/20220511221007_overlap'\n",
    "\n",
    "generate_gif(experiment_path, 'DICE')\n",
    "generate_gif(experiment_path, 'wachter')"
   ]
  },
  {
   "cell_type": "code",
   "execution_count": null,
   "id": "6ccf3f41",
   "metadata": {},
   "outputs": [],
   "source": []
  }
 ],
 "metadata": {
  "kernelspec": {
   "display_name": "CSE3000",
   "language": "python",
   "name": "cse3000"
  },
  "language_info": {
   "codemirror_mode": {
    "name": "ipython",
    "version": 3
   },
   "file_extension": ".py",
   "mimetype": "text/x-python",
   "name": "python",
   "nbconvert_exporter": "python",
   "pygments_lexer": "ipython3",
   "version": "3.7.13"
  }
 },
 "nbformat": 4,
 "nbformat_minor": 5
}
